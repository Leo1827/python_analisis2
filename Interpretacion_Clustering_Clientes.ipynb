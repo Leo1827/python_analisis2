{
  "cells": [
    {
      "cell_type": "markdown",
      "metadata": {},
      "source": "# An\u00e1lisis de Segmentaci\u00f3n de Clientes con Clustering\n\n## Interpretaci\u00f3n de Resultados\n\n### \u00bfQu\u00e9 significa cada cl\u00faster?\nCada cl\u00faster representa un grupo de clientes con caracter\u00edsticas similares seg\u00fan las variables consideradas: g\u00e9nero, edad, ingresos anuales y puntaje de gasto. Por ejemplo:\n- **Cl\u00faster 0**: Clientes j\u00f3venes con alto puntaje de gasto pero ingresos bajos.\n- **Cl\u00faster 1**: Adultos mayores con ingresos altos pero bajo puntaje de gasto.\n- **Cl\u00faster 2**: Clientes promedio tanto en ingresos como en gasto.\n- **Cl\u00faster 3**: J\u00f3venes con ingresos altos y alto puntaje de gasto (clientes ideales).\n- **Cl\u00faster 4**: Clientes con bajos ingresos y bajo puntaje de gasto.\n\n(Los ejemplos pueden variar seg\u00fan tu an\u00e1lisis).\n\n### \u00bfQu\u00e9 grupo gasta m\u00e1s?\nEl grupo con el **mayor puntaje de gasto** es el del cl\u00faster con los valores m\u00e1s altos en la variable **Spending Score (1-100)**.\n\n### \u00bfQu\u00e9 grupo tiene menos ingresos?\nEl cl\u00faster con el valor m\u00e1s bajo en **Annual Income (k$)** representa a los clientes con menor ingreso.\n\n### \u00bfQu\u00e9 diferencias hay entre los modelos?\n\n#### K-Means:\n- Requiere definir el n\u00famero de cl\u00fasteres.\n- Computacionalmente eficiente.\n- Proporciona cl\u00fasteres esf\u00e9ricos.\n- Ideal para grandes datasets.\n\n#### Clustering Jer\u00e1rquico:\n- No requiere n\u00famero de cl\u00fasteres a priori.\n- Visualiza relaciones jer\u00e1rquicas (dendograma).\n- Menos eficiente con grandes datos.\n- \u00datil para entender estructura jer\u00e1rquica.\n\nAmbos modelos ofrecen diferentes perspectivas sobre el comportamiento de los clientes.\n"
    }
  ],
  "metadata": {
    "kernelspec": {
      "display_name": "Python 3",
      "language": "python",
      "name": "python3"
    },
    "language_info": {
      "name": "python",
      "version": "3.8"
    }
  },
  "nbformat": 4,
  "nbformat_minor": 5
}