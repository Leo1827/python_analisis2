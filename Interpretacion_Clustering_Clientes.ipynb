{
 "cells": [
  {
   "cell_type": "markdown",
   "id": "3e6be05b",
   "metadata": {},
   "source": [
    "# Notebook generado automáticamente"
   ]
  },
  {
   "cell_type": "markdown",
   "id": "794bb574",
   "metadata": {},
   "source": [
    "# 🧠 Análisis de Segmentación de Clientes con Clustering"
   ]
  },
  {
   "cell_type": "markdown",
   "id": "2c53ac80",
   "metadata": {},
   "source": [
    "## 📥 Paso 1: Cargar el dataset\n",
    "```python\n",
    "import pandas as pd"
   ]
  },
  {
   "cell_type": "markdown",
   "id": "39b7d375",
   "metadata": {},
   "source": [
    "df = pd.read_csv(\"Mall_Customers.csv\")\n",
    "df.head()\n",
    "```"
   ]
  },
  {
   "cell_type": "markdown",
   "id": "76f9c41f",
   "metadata": {},
   "source": [
    "## 📊 Paso 2: Análisis Exploratorio de los Datos (EDA)\n",
    "```python\n",
    "# Ver estructura\n",
    "df.info()"
   ]
  },
  {
   "cell_type": "markdown",
   "id": "7736f195",
   "metadata": {},
   "source": [
    "# Estadísticas generales\n",
    "df.describe()"
   ]
  },
  {
   "cell_type": "markdown",
   "id": "b10e5006",
   "metadata": {},
   "source": [
    "# Ver si hay valores nulos\n",
    "df.isnull().sum()"
   ]
  },
  {
   "cell_type": "markdown",
   "id": "7a6b0df3",
   "metadata": {},
   "source": [
    "# Visualizaciones\n",
    "import seaborn as sns\n",
    "import matplotlib.pyplot as plt"
   ]
  },
  {
   "cell_type": "markdown",
   "id": "385601dc",
   "metadata": {},
   "source": [
    "sns.pairplot(df[['Age', 'Annual Income (k$)', 'Spending Score (1-100)']])\n",
    "plt.show()"
   ]
  },
  {
   "cell_type": "markdown",
   "id": "28ef8113",
   "metadata": {},
   "source": [
    "# Distribuciones\n",
    "sns.histplot(df['Age'], kde=True)\n",
    "sns.boxplot(data=df[['Age', 'Annual Income (k$)', 'Spending Score (1-100)']])\n",
    "```"
   ]
  },
  {
   "cell_type": "markdown",
   "id": "989a3f80",
   "metadata": {},
   "source": [
    "## 🧹 Paso 3: Preprocesamiento de los Datos\n",
    "```python\n",
    "# Eliminar columnas innecesarias como 'CustomerID'\n",
    "data = df.drop(columns=['CustomerID'])"
   ]
  },
  {
   "cell_type": "markdown",
   "id": "252b1d4d",
   "metadata": {},
   "source": [
    "# Convertir género a valores numéricos\n",
    "data['Genre'] = data['Genre'].map({'Male': 0, 'Female': 1})"
   ]
  },
  {
   "cell_type": "markdown",
   "id": "68905800",
   "metadata": {},
   "source": [
    "# Ver el resultado\n",
    "data.head()\n",
    "```"
   ]
  },
  {
   "cell_type": "markdown",
   "id": "144ff8d2",
   "metadata": {},
   "source": [
    "## 🧠 Paso 4: Selección de Características\n",
    "```python\n",
    "# Usamos todas las columnas transformadas\n",
    "X = data[['Genre', 'Age', 'Annual Income (k$)', 'Spending Score (1-100)']]\n",
    "```"
   ]
  },
  {
   "cell_type": "markdown",
   "id": "1db1f239",
   "metadata": {},
   "source": [
    "## ⚙️ Paso 5: Entrenamiento del Modelo - K-Means\n",
    "```python\n",
    "from sklearn.cluster import KMeans"
   ]
  },
  {
   "cell_type": "markdown",
   "id": "d7e576ef",
   "metadata": {},
   "source": [
    "# Entrenar KMeans con 5 clústeres (puedes probar con otros)\n",
    "kmeans = KMeans(n_clusters=5, random_state=42)\n",
    "kmeans.fit(X)"
   ]
  },
  {
   "cell_type": "markdown",
   "id": "bda0f471",
   "metadata": {},
   "source": [
    "# Agregar las etiquetas al dataframe\n",
    "data['Cluster_KMeans'] = kmeans.labels_\n",
    "```"
   ]
  },
  {
   "cell_type": "markdown",
   "id": "fd84283e",
   "metadata": {},
   "source": [
    "## ⚙️ Paso 6: Entrenamiento del Modelo - Clustering Jerárquico\n",
    "```python\n",
    "from scipy.cluster.hierarchy import linkage, dendrogram, fcluster"
   ]
  },
  {
   "cell_type": "markdown",
   "id": "ef8d42ff",
   "metadata": {},
   "source": [
    "# Dendograma\n",
    "linked = linkage(X, method='ward')\n",
    "plt.figure(figsize=(10, 7))\n",
    "dendrogram(linked)\n",
    "plt.title(\"Dendograma\")\n",
    "plt.show()"
   ]
  },
  {
   "cell_type": "markdown",
   "id": "3fdd113d",
   "metadata": {},
   "source": [
    "# Cortar en 5 clústeres\n",
    "data['Cluster_Hierarchical'] = fcluster(linked, t=5, criterion='maxclust')\n",
    "```"
   ]
  },
  {
   "cell_type": "markdown",
   "id": "fdb77510",
   "metadata": {},
   "source": [
    "## 📈 Paso 7: Evaluación del Modelo\n",
    "```python\n",
    "from sklearn.metrics import silhouette_score, calinski_harabasz_score, davies_bouldin_score"
   ]
  },
  {
   "cell_type": "markdown",
   "id": "b610b033",
   "metadata": {},
   "source": [
    "# Evaluación para KMeans\n",
    "print(\"Silhouette Score:\", silhouette_score(X, kmeans.labels_))\n",
    "print(\"Calinski-Harabasz:\", calinski_harabasz_score(X, kmeans.labels_))\n",
    "print(\"Davies-Bouldin:\", davies_bouldin_score(X, kmeans.labels_))\n",
    "```"
   ]
  },
  {
   "cell_type": "markdown",
   "id": "0a4b8313",
   "metadata": {},
   "source": [
    "## 📊 Paso 8: Visualización de Resultados\n",
    "```python\n",
    "sns.scatterplot(x='Annual Income (k$)', y='Spending Score (1-100)', hue='Cluster_KMeans', data=data, palette='Set1')\n",
    "plt.title(\"Clusters por KMeans\")\n",
    "plt.show()"
   ]
  },
  {
   "cell_type": "markdown",
   "id": "039930e0",
   "metadata": {},
   "source": [
    "sns.scatterplot(x='Annual Income (k$)', y='Spending Score (1-100)', hue='Cluster_Hierarchical', data=data, palette='Set2')\n",
    "plt.title(\"Clusters por Clustering Jerárquico\")\n",
    "plt.show()\n",
    "```"
   ]
  },
  {
   "cell_type": "markdown",
   "id": "72e9bb5f",
   "metadata": {},
   "source": [
    "## 📝 Análisis Final"
   ]
  },
  {
   "cell_type": "markdown",
   "id": "bcfe7e23",
   "metadata": {},
   "source": [
    "**¿Qué significa cada clúster?**  \n",
    "Cada clúster agrupa clientes con características similares según ingreso anual, gasto y edad. Por ejemplo, un grupo puede representar jóvenes con alto gasto, otro puede ser adultos con bajo gasto, etc."
   ]
  },
  {
   "cell_type": "markdown",
   "id": "104939d0",
   "metadata": {},
   "source": [
    "**¿Qué grupo gasta más?**  \n",
    "El grupo con mayor puntaje de gasto representa a los clientes más activos o leales al mall."
   ]
  },
  {
   "cell_type": "markdown",
   "id": "757fd4eb",
   "metadata": {},
   "source": [
    "**¿Qué grupo tiene menos ingresos?**  \n",
    "Generalmente, los grupos con menor ingreso anual se identifican por valores bajos en la dimensión “Annual Income (k$)”."
   ]
  },
  {
   "cell_type": "markdown",
   "id": "d7f83915",
   "metadata": {},
   "source": [
    "**¿Qué diferencias hay entre los modelos?**  \n",
    "K-means crea clústeres esféricos basados en centroides y es eficiente con grandes datos. El clustering jerárquico genera una estructura en forma de árbol (dendograma) que es más útil para entender jerarquías pero puede ser más lento."
   ]
  }
 ],
 "metadata": {},
 "nbformat": 4,
 "nbformat_minor": 5
}
